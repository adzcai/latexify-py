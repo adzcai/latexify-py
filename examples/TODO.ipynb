{
 "cells": [
  {
   "cell_type": "markdown",
   "metadata": {},
   "source": [
    "# `latexify`"
   ]
  },
  {
   "cell_type": "markdown",
   "metadata": {},
   "source": [
    "why pseudocode?\n",
    "\n",
    "- readability (doesn't break flow of text)\n",
    "- accessibility (doesn't depend on reader's proficiency with specific language)\n",
    "- simplicity/abstraction\n",
    "\n",
    "but we want a reference implementation too"
   ]
  },
  {
   "cell_type": "code",
   "execution_count": 30,
   "metadata": {},
   "outputs": [
    {
     "name": "stdout",
     "output_type": "stream",
     "text": [
      "The autoreload extension is already loaded. To reload it, use:\n",
      "  %reload_ext autoreload\n"
     ]
    }
   ],
   "source": [
    "%load_ext autoreload\n",
    "%autoreload 2"
   ]
  },
  {
   "cell_type": "code",
   "execution_count": 31,
   "metadata": {},
   "outputs": [],
   "source": [
    "import latexify\n",
    "import ast"
   ]
  },
  {
   "cell_type": "markdown",
   "metadata": {},
   "source": [
    "# demo"
   ]
  },
  {
   "cell_type": "code",
   "execution_count": 32,
   "metadata": {},
   "outputs": [
    {
     "data": {
      "text/latex": [
       "$ \\begin{array}{l} \\mathbf{function} \\ \\mathrm{collatz}(n) \\\\ \\hspace{1em} \\mathrm{iterations} \\gets 0 \\\\ \\hspace{1em} \\mathbf{while} \\ n > 1 \\\\ \\hspace{2em} \\mathbf{if} \\ n \\mathbin{\\%} 2 = 0 \\\\ \\hspace{3em} n \\gets \\left\\lfloor\\frac{n}{2}\\right\\rfloor \\\\ \\hspace{2em} \\mathbf{else} \\\\ \\hspace{3em} n \\gets 3 n + 1 \\\\ \\hspace{2em} \\mathbf{end \\ if} \\\\ \\hspace{2em} \\mathrm{iterations} \\gets \\mathrm{iterations} + 1 \\\\ \\hspace{1em} \\mathbf{end \\ while} \\\\ \\hspace{1em} \\mathbf{return} \\ \\mathrm{iterations} \\\\ \\mathbf{end \\ function} \\end{array} $"
      ],
      "text/plain": [
       "<latexify.ipython_wrappers.LatexifiedAlgorithm at 0x10e2ec1d0>"
      ]
     },
     "execution_count": 32,
     "metadata": {},
     "output_type": "execute_result"
    }
   ],
   "source": [
    "def collatz(n):\n",
    "    iterations = 0\n",
    "    while n > 1:\n",
    "        if n % 2 == 0:\n",
    "            n = n // 2\n",
    "        else:\n",
    "            n = 3 * n + 1\n",
    "        iterations = iterations + 1\n",
    "    return iterations\n",
    "\n",
    "latexify.algorithmic(collatz)"
   ]
  },
  {
   "cell_type": "markdown",
   "metadata": {},
   "source": [
    "# plugin system"
   ]
  },
  {
   "cell_type": "markdown",
   "metadata": {},
   "source": [
    "once complete, implement many of the below as optional plugins\n",
    "\n",
    "maybe allow users to write custom code at different points in generation _lifecycle_?\n",
    "\n",
    "- see `get_latex` in [generate_latex.py](../src/latexify/generate_latex.py)\n",
    "- currently supports custom function calls via `custom_functions` in `visit_Call` in [expression_codegen.py](../src/latexify/codegen/expression_codegen.py)"
   ]
  },
  {
   "cell_type": "code",
   "execution_count": null,
   "metadata": {},
   "outputs": [],
   "source": [
    "%%script true\n",
    "class MyPlugin(ast.NodeTransformer):\n",
    "    ...\n",
    "\n",
    "    def visit_Constant(self, node: ast.Constant):\n",
    "        ...\n",
    "        return ... # some latex code\n",
    "\n",
    "@latexify.algorithmic(plugins=[MyPlugin])\n",
    "def my_algorithm():\n",
    "    ...\n",
    "\n",
    "# or maybe\n",
    "\n",
    "def customize_my_function(visitor, node):\n",
    "    return ...  # some latex\n",
    "\n",
    "@latexify.algorithmic(custom_functions={\"my_function\": customize_my_function})\n",
    "def my_algorithm():\n",
    "    x = my_function()"
   ]
  },
  {
   "cell_type": "markdown",
   "metadata": {},
   "source": [
    "\n",
    "**Q: best library design patterns for this?**\n",
    "- what level of flexibility to support?\n",
    "- what's the point of the library if users just need to write their own AST transformer? (pluggability / modularity)\n"
   ]
  },
  {
   "cell_type": "markdown",
   "metadata": {},
   "source": [
    "## docstrings"
   ]
  },
  {
   "cell_type": "markdown",
   "metadata": {},
   "source": [
    "more description for inputs description, documentation\n",
    "\n",
    "- i.e. https://peps.python.org/pep-0257/\n",
    "\n",
    "different docstring styles? maybe require different plugins"
   ]
  },
  {
   "cell_type": "markdown",
   "metadata": {},
   "source": [
    "enable **comments**. might be via fake docstrings"
   ]
  },
  {
   "cell_type": "markdown",
   "metadata": {},
   "source": [
    "postprocessing as well as preprocessing (leave \"holes\" in the tree)\n",
    "\n",
    "- isn't this just find and replace? How to deal with binding?\n",
    "\n",
    "substitutions like following:"
   ]
  },
  {
   "cell_type": "code",
   "execution_count": null,
   "metadata": {},
   "outputs": [],
   "source": [
    "%%script true\n",
    "@latexify.algorithmic(identifiers={\"bar\": \"f\"})\n",
    "def foo():\n",
    "    x = bar(3)  # not defined\n",
    "\n",
    "foo._replace(bar=my_replacement)  # but could just walk through the tree again"
   ]
  },
  {
   "cell_type": "markdown",
   "metadata": {},
   "source": [
    "# type annotations"
   ]
  },
  {
   "cell_type": "markdown",
   "metadata": {},
   "source": [
    "type checking of shapes and stuff? (maybe tools like `jaxtyping` do this already)\n",
    "\n",
    "infer which components are vectors or scalars, i.e. shape checking\n",
    "\n",
    "- support things like `jnp.zeros_like` that need context"
   ]
  },
  {
   "cell_type": "markdown",
   "metadata": {},
   "source": [
    "function return types\n",
    "\n",
    "variable type annotations (`AnnAssign` AST)"
   ]
  },
  {
   "cell_type": "code",
   "execution_count": null,
   "metadata": {},
   "outputs": [],
   "source": [
    "x: Float[Array, \"N D\"] = f(z)"
   ]
  },
  {
   "cell_type": "markdown",
   "metadata": {},
   "source": [
    "should turn into $\\boldsymbol x \\in \\mathbb R^{N \\times D} = \\boldsymbol f(\\boldsymbol z)$"
   ]
  },
  {
   "cell_type": "markdown",
   "metadata": {},
   "source": [
    "# other changes"
   ]
  },
  {
   "cell_type": "markdown",
   "metadata": {},
   "source": [
    "intellisense for frontend (ux), currently just uses `kwargs`. should match kwargs to `get_latex`"
   ]
  },
  {
   "cell_type": "code",
   "execution_count": null,
   "metadata": {},
   "outputs": [],
   "source": [
    "latexify.algorithmic()"
   ]
  },
  {
   "cell_type": "markdown",
   "metadata": {},
   "source": [
    "dump to `tex` file"
   ]
  },
  {
   "cell_type": "code",
   "execution_count": 16,
   "metadata": {},
   "outputs": [],
   "source": [
    "@latexify.algorithmic(to_file=\"square.tex\")\n",
    "def f(x):\n",
    "    return x**2"
   ]
  },
  {
   "cell_type": "markdown",
   "metadata": {},
   "source": [
    "turn `elif` into latex `\\ElsIf`\n"
   ]
  },
  {
   "cell_type": "code",
   "execution_count": 15,
   "metadata": {},
   "outputs": [
    {
     "data": {
      "text/latex": [
       "$ \\begin{array}{l} \\mathbf{function} \\ f(x, y) \\\\ \\hspace{1em} \\mathbf{if} \\ x < y \\\\ \\hspace{2em} \\mathbf{return} \\ x \\\\ \\hspace{1em} \\mathbf{else if} \\ x > y \\\\ \\hspace{2em} \\mathbf{return} \\ y \\\\ \\hspace{1em} \\mathbf{end \\ if} \\\\ \\mathbf{end \\ function} \\end{array} $"
      ],
      "text/plain": [
       "<latexify.ipython_wrappers.LatexifiedAlgorithm at 0x115ea66d0>"
      ]
     },
     "execution_count": 15,
     "metadata": {},
     "output_type": "execute_result"
    }
   ],
   "source": [
    "def f(x, y):\n",
    "    if x < y:\n",
    "        return x\n",
    "    elif x > y:\n",
    "        return y\n",
    "\n",
    "latexify.algorithmic(f)"
   ]
  },
  {
   "cell_type": "markdown",
   "metadata": {},
   "source": [
    "nested function support"
   ]
  },
  {
   "cell_type": "markdown",
   "metadata": {},
   "source": [
    "maybe support different `algpseudocode` styles? would need some refactoring"
   ]
  },
  {
   "cell_type": "markdown",
   "metadata": {},
   "source": [
    "function keyword arguments don't show up"
   ]
  },
  {
   "cell_type": "markdown",
   "metadata": {},
   "source": [
    "probability notation? e.g. `x = np.random.binomial(n, p)` to $x \\sim \\text{Binomial}(n, p)$"
   ]
  },
  {
   "cell_type": "markdown",
   "metadata": {},
   "source": [
    "Typst target? seems worth learning anyways"
   ]
  },
  {
   "cell_type": "markdown",
   "metadata": {},
   "source": [
    "more advanced identifier replacement\n",
    "- e.g. `y_hat` to $\\widehat y$"
   ]
  },
  {
   "cell_type": "code",
   "execution_count": 27,
   "metadata": {},
   "outputs": [
    {
     "data": {
      "text/latex": [
       "$ \\begin{array}{l} \\mathbf{function} \\ \\mathrm{loss}(x, y) \\\\ \\hspace{1em} \\mathrm{n\\_batch} \\gets \\mathrm{len} \\mathopen{}\\left( x \\mathclose{}\\right) \\\\ \\hspace{1em} \\mathrm{y\\_hat} \\gets f \\mathopen{}\\left( x \\mathclose{}\\right) \\\\ \\hspace{1em} \\mathbf{return} \\ \\frac{\\mathopen{}\\left( \\mathrm{y\\_hat} - y \\mathclose{}\\right)^{2}}{\\mathrm{n\\_batch}} \\\\ \\mathbf{end \\ function} \\end{array} $"
      ],
      "text/plain": [
       "<latexify.ipython_wrappers.LatexifiedAlgorithm at 0x11138d710>"
      ]
     },
     "execution_count": 27,
     "metadata": {},
     "output_type": "execute_result"
    }
   ],
   "source": [
    "def loss(x, y):\n",
    "    n_batch = len(x)\n",
    "    y_hat = f(x)\n",
    "    return (y_hat - y) ** 2 / n_batch\n",
    "\n",
    "latexify.algorithmic(loss)"
   ]
  },
  {
   "cell_type": "code",
   "execution_count": 28,
   "metadata": {},
   "outputs": [
    {
     "data": {
      "text/latex": [
       "$ \\begin{array}{l} \\mathbf{function} \\ \\mathrm{loss}(x, y) \\\\ \\hspace{1em} n_{\\mathrm{batch}} \\gets \\mathrm{len} \\mathopen{}\\left( x \\mathclose{}\\right) \\\\ \\hspace{1em} \\widehat{y} \\gets f \\mathopen{}\\left( x \\mathclose{}\\right) \\\\ \\hspace{1em} \\mathbf{return} \\ \\frac{\\mathopen{}\\left( \\widehat{y} - y \\mathclose{}\\right)^{2}}{n_{\\mathrm{batch}}} \\\\ \\mathbf{end \\ function} \\end{array} $"
      ],
      "text/plain": [
       "<latexify.ipython_wrappers.LatexifiedAlgorithm at 0x115f8d0d0>"
      ]
     },
     "execution_count": 28,
     "metadata": {},
     "output_type": "execute_result"
    }
   ],
   "source": [
    "latexify.algorithmic(loss, use_math_symbols=True)"
   ]
  },
  {
   "cell_type": "markdown",
   "metadata": {},
   "source": [
    "support for classes?"
   ]
  },
  {
   "cell_type": "markdown",
   "metadata": {},
   "source": [
    "other math stuff, e.g. integration, linear algebra?"
   ]
  },
  {
   "cell_type": "markdown",
   "metadata": {},
   "source": [
    "heterogeneous staging?"
   ]
  },
  {
   "cell_type": "markdown",
   "metadata": {},
   "source": [
    "variable superscripts as well as subscripts?"
   ]
  },
  {
   "cell_type": "code",
   "execution_count": 33,
   "metadata": {},
   "outputs": [
    {
     "data": {
      "text/latex": [
       "$ \\begin{array}{l} \\mathbf{function} \\ \\mathrm{pg\\_with\\_learned\\_baseline\\_pseudocode}(\\mathrm{env}, \\pi, \\eta, \\theta_{\\mathrm{init}}, K, N) \\\\ \\hspace{1em} \\theta \\gets \\theta_{\\mathrm{init}} \\\\ \\hspace{1em} \\mathbf{for} \\ k \\in \\mathrm{range} \\mathopen{}\\left( K \\mathclose{}\\right) \\ \\mathbf{do} \\\\ \\hspace{2em} \\mathrm{trajectories} \\gets \\mathrm{sample\\_trajectories} \\mathopen{}\\left( \\mathrm{env}, \\pi \\mathopen{}\\left( \\theta \\mathclose{}\\right), N \\mathclose{}\\right) \\\\ \\hspace{2em} \\widehat{V} \\gets \\mathrm{fit} \\mathopen{}\\left( \\mathrm{trajectories} \\mathclose{}\\right) \\\\ \\hspace{2em} \\tau \\gets \\mathrm{sample\\_trajectories} \\mathopen{}\\left( \\mathrm{env}, \\pi \\mathopen{}\\left( \\theta \\mathclose{}\\right), 1 \\mathclose{}\\right) \\\\ \\hspace{2em} \\widehat{\\nabla} \\gets \\mathrm{jnp}.\\mathrm{zeros\\_like} \\mathopen{}\\left( \\theta \\mathclose{}\\right) \\\\ \\hspace{2em} \\mathbf{for} \\ \\mathopen{}\\left( h, \\mathopen{}\\left( s, a \\mathclose{}\\right) \\mathclose{}\\right) \\in \\mathrm{enumerate} \\mathopen{}\\left( \\tau \\mathclose{}\\right) \\ \\mathbf{do} \\\\ \\hspace{3em} \\mathbf{function} \\ \\mathrm{log\\_likelihood}(\\theta) \\\\ \\hspace{4em} \\mathbf{return} \\ \\log \\pi \\mathopen{}\\left( \\theta \\mathclose{}\\right) \\mathopen{}\\left( s, a \\mathclose{}\\right) \\\\ \\hspace{3em} \\mathbf{end \\ function} \\\\ \\hspace{3em} \\widehat{\\nabla} \\gets \\widehat{\\nabla} + \\nabla \\mathopen{}\\left(\\mathrm{log\\_likelihood}\\mathclose{}\\right) \\mathopen{}\\left( \\theta \\mathclose{}\\right) \\cdot \\mathopen{}\\left( \\mathrm{return\\_to\\_go} \\mathopen{}\\left( \\tau, h \\mathclose{}\\right) - \\widehat{V} \\mathopen{}\\left( s \\mathclose{}\\right) \\mathclose{}\\right) \\\\ \\hspace{2em} \\mathbf{end \\ for} \\\\ \\hspace{2em} \\theta \\gets \\theta + \\eta \\widehat{\\nabla} \\\\ \\hspace{1em} \\mathbf{end \\ for} \\\\ \\hspace{1em} \\mathbf{return} \\ \\theta \\\\ \\mathbf{end \\ function} \\end{array} $"
      ],
      "text/plain": [
       "<latexify.ipython_wrappers.LatexifiedAlgorithm at 0x115f8d710>"
      ]
     },
     "execution_count": 33,
     "metadata": {},
     "output_type": "execute_result"
    }
   ],
   "source": [
    "def pg_with_learned_baseline_pseudocode(env, pi, eta, theta_init, K, N):\n",
    "    theta = theta_init\n",
    "    for k in range(K):\n",
    "        trajectories = sample_trajectories(env, pi(theta), N)\n",
    "        V_hat = fit(trajectories)  # estimates the value function of pi(theta)\n",
    "        tau = sample_trajectories(env, pi(theta), 1)\n",
    "        nabla_hat = jnp.zeros_like(theta)  # gradient estimator\n",
    "\n",
    "        for h, (s, a) in enumerate(tau):\n",
    "            def log_likelihood(theta):\n",
    "                return jnp.log(pi(theta)(s, a))\n",
    "            nabla_hat = nabla_hat + jax.grad(log_likelihood)(theta) * (return_to_go(tau, h) - V_hat(s))\n",
    "        \n",
    "        theta = theta + eta * nabla_hat\n",
    "    return theta\n",
    "\n",
    "latexify.algorithmic(pg_with_learned_baseline_pseudocode, use_math_symbols=True)"
   ]
  },
  {
   "cell_type": "markdown",
   "metadata": {},
   "source": [
    "$$\n",
    "\\mathrm{log\\_likelihood}(\\theta) = \\log(\\pi(\\theta)(s, a))\n",
    "$$"
   ]
  }
 ],
 "metadata": {
  "kernelspec": {
   "display_name": "hatch-test.py3.11",
   "language": "python",
   "name": "python3"
  },
  "language_info": {
   "codemirror_mode": {
    "name": "ipython",
    "version": 3
   },
   "file_extension": ".py",
   "mimetype": "text/x-python",
   "name": "python",
   "nbconvert_exporter": "python",
   "pygments_lexer": "ipython3",
   "version": "3.11.10"
  }
 },
 "nbformat": 4,
 "nbformat_minor": 2
}
