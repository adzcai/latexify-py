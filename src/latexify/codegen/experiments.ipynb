{
 "cells": [
  {
   "cell_type": "code",
   "execution_count": 1,
   "metadata": {},
   "outputs": [],
   "source": [
    "%load_ext autoreload\n",
    "%autoreload 2"
   ]
  },
  {
   "cell_type": "code",
   "execution_count": 17,
   "metadata": {},
   "outputs": [],
   "source": [
    "from jaxtyping import Float\n",
    "from numpy import ndarray\n",
    "from collections.abc import Callable\n",
    "import latexify\n",
    "\n",
    "def sgd(\n",
    "    theta_init: Float[ndarray, \"D\"],\n",
    "    estimate_gradient: Callable[[Float[ndarray, \"D\"]], Float[ndarray, \"D\"]],\n",
    "    eta: float,\n",
    "    n_steps: int,\n",
    "):\n",
    "    theta = theta_init\n",
    "    for step in range(n_steps):\n",
    "        theta += eta * estimate_gradient(theta)\n",
    "    return theta\n",
    "\n",
    "latex = latexify.algorithmic(sgd, use_math_symbols=True)"
   ]
  },
  {
   "cell_type": "code",
   "execution_count": 16,
   "metadata": {},
   "outputs": [
    {
     "name": "stdout",
     "output_type": "stream",
     "text": [
      "\\begin{algorithmic}\n",
      "    \\Function{sgd}{$\\theta_{init}, estimate_{gradient}, \\eta, n_{steps}$}\n",
      "        \\State $\\theta \\gets \\theta_{\\mathrm{init}}$\n",
      "        \\For{$\\mathrm{step} \\in \\mathrm{range} \\mathopen{}\\mathopen{}\left( n_{\\mathrm{steps}} \\mathclose{}\\mathclose{}\right)$}\n",
      "            \\State $\\theta \\gets \\theta + \\eta \\cdot \\mathrm{estimate}_{\\mathrm{gradient}} \\mathopen{}\\mathopen{}\left( \\theta \\mathclose{}\\mathclose{}\right)$\n",
      "        \\EndFor\n",
      "        \\State \\Return $\\theta$\n",
      "    \\EndFunction\n",
      "\\end{algorithmic}\n"
     ]
    }
   ],
   "source": [
    "print(latex)"
   ]
  },
  {
   "cell_type": "code",
   "execution_count": null,
   "metadata": {},
   "outputs": [],
   "source": []
  }
 ],
 "metadata": {
  "kernelspec": {
   "display_name": "hatch-test.py3.11",
   "language": "python",
   "name": "python3"
  },
  "language_info": {
   "codemirror_mode": {
    "name": "ipython",
    "version": 3
   },
   "file_extension": ".py",
   "mimetype": "text/x-python",
   "name": "python",
   "nbconvert_exporter": "python",
   "pygments_lexer": "ipython3",
   "version": "3.11.10"
  }
 },
 "nbformat": 4,
 "nbformat_minor": 2
}
