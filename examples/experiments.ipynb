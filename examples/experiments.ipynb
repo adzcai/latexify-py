{
 "cells": [
  {
   "cell_type": "code",
   "execution_count": 1,
   "metadata": {},
   "outputs": [],
   "source": [
    "%load_ext autoreload\n",
    "%autoreload 2"
   ]
  },
  {
   "cell_type": "code",
   "execution_count": null,
   "metadata": {},
   "outputs": [],
   "source": [
    "def pg_with_learned_baseline_pseudocode(env, π, η, theta_init, K, N):\n",
    "    theta = theta_init\n",
    "    for k in range(K):\n",
    "        trajectories = sample_trajectories(env, π(theta), N)\n",
    "        V_hat = fit(trajectories)  # estimates the value function of π(theta)\n",
    "        τ = sample_trajectories(env, π(theta), 1)\n",
    "        g = jnp.zeros_like(theta)  # gradient estimator\n",
    "\n",
    "        for h, (s, a) in enumerate(τ):\n",
    "            def log_likelihood(theta_):\n",
    "                return jnp.log(π(theta_)(s, a))\n",
    "            g = g + jax.grad(log_likelihood)(theta) * (return_to_go(τ, h) - V_hat(s))\n",
    "        \n",
    "        theta = theta + η * g\n",
    "    return theta"
   ]
  }
 ],
 "metadata": {
  "kernelspec": {
   "display_name": "hatch-test.py3.11",
   "language": "python",
   "name": "python3"
  },
  "language_info": {
   "codemirror_mode": {
    "name": "ipython",
    "version": 3
   },
   "file_extension": ".py",
   "mimetype": "text/x-python",
   "name": "python",
   "nbconvert_exporter": "python",
   "pygments_lexer": "ipython3",
   "version": "3.11.10"
  }
 },
 "nbformat": 4,
 "nbformat_minor": 2
}
