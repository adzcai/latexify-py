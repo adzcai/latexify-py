{
 "cells": [
  {
   "cell_type": "code",
   "execution_count": 1,
   "metadata": {},
   "outputs": [],
   "source": [
    "%load_ext autoreload\n",
    "%autoreload 2"
   ]
  },
  {
   "cell_type": "code",
   "execution_count": null,
   "metadata": {},
   "outputs": [
    {
     "name": "stdout",
     "output_type": "stream",
     "text": [
      "\\begin{algorithmic}\n",
      "    \\Function{pg\\_with\\_learned\\_baseline\\_pseudocode}{$env, \\pi, \\eta, theta\\_init, K, N$}\n",
      "        \\State $\\theta \\gets \\mathrm{theta\\_init}$\n",
      "        \\For{$k \\in \\mathrm{range} \\mathopen{}\\left( K \\mathclose{}\\right)$}\n",
      "            \\State $\\mathrm{trajectories} \\gets \\mathrm{sample\\_trajectories} \\mathopen{}\\left( \\mathrm{env}, \\pi \\mathopen{}\\left( \\theta \\mathclose{}\\right), N \\mathclose{}\\right)$\n",
      "            \\State $\\mathrm{V\\_hat} \\gets \\mathrm{fit} \\mathopen{}\\left( \\mathrm{trajectories} \\mathclose{}\\right)$\n",
      "            \\State $\\tau \\gets \\mathrm{sample\\_trajectories} \\mathopen{}\\left( \\mathrm{env}, \\pi \\mathopen{}\\left( \\theta \\mathclose{}\\right), 1 \\mathclose{}\\right)$\n",
      "            \\State $g \\gets \\mathrm{jnp}.\\mathrm{zeros\\_like} \\mathopen{}\\left( \\theta \\mathclose{}\\right)$\n",
      "            \\For{$\\mathopen{}\\left( h, \\mathopen{}\\left( s, a \\mathclose{}\\right) \\mathclose{}\\right) \\in \\mathrm{enumerate} \\mathopen{}\\left( \\tau \\mathclose{}\\right)$}\n",
      "                \\begin{algorithmic}\n",
      "                    \\Function{log\\_likelihood}{$theta\\_$}\n",
      "                        \\State \\Return $\\log \\pi \\mathopen{}\\left( \\mathrm{theta\\_} \\mathclose{}\\right) \\mathopen{}\\left( s, a \\mathclose{}\\right)$\n",
      "                    \\EndFunction\n",
      "                \\end{algorithmic}\n",
      "                \\State $g \\gets g + \\mathrm{jax}.\\mathrm{grad} \\mathopen{}\\left( \\mathrm{log\\_likelihood} \\mathclose{}\\right) \\mathopen{}\\left( \\theta \\mathclose{}\\right) \\cdot \\mathopen{}\\left( \\mathrm{return\\_to\\_go} \\mathopen{}\\left( \\tau, h \\mathclose{}\\right) - \\mathrm{V\\_hat} \\mathopen{}\\left( s \\mathclose{}\\right) \\mathclose{}\\right)$\n",
      "            \\EndFor\n",
      "            \\State $\\theta \\gets \\theta + \\eta g$\n",
      "        \\EndFor\n",
      "        \\State \\Return $\\theta$\n",
      "    \\EndFunction\n",
      "\\end{algorithmic}\n"
     ]
    }
   ],
   "source": [
    "import latexify\n",
    "\n",
    "@latexify.algorithmic(use_math_symbols=True)\n",
    "def pg_with_learned_baseline_pseudocode(env, pi, eta, theta_init, K, N):\n",
    "    theta = theta_init\n",
    "    for k in range(K):\n",
    "        trajectories = sample_trajectories(env, pi(theta), N)\n",
    "        V_hat = fit(trajectories)  # estimates the value function of pi(theta)\n",
    "        tau = sample_trajectories(env, pi(theta), 1)\n",
    "        g = jnp.zeros_like(theta)  # gradient estimator\n",
    "\n",
    "        for h, (s, a) in enumerate(tau):\n",
    "            def log_likelihood(theta_):\n",
    "                return jnp.log(pi(theta_)(s, a))\n",
    "            g = g + jax.grad(log_likelihood)(theta) * (return_to_go(tau, h) - V_hat(s))\n",
    "        \n",
    "        theta = theta + eta * g\n",
    "    return theta\n",
    "\n",
    "print(pg_with_learned_baseline_pseudocode)"
   ]
  },
  {
   "cell_type": "code",
   "execution_count": null,
   "metadata": {},
   "outputs": [],
   "source": []
  }
 ],
 "metadata": {
  "kernelspec": {
   "display_name": "hatch-test.py3.11",
   "language": "python",
   "name": "python3"
  },
  "language_info": {
   "codemirror_mode": {
    "name": "ipython",
    "version": 3
   },
   "file_extension": ".py",
   "mimetype": "text/x-python",
   "name": "python",
   "nbconvert_exporter": "python",
   "pygments_lexer": "ipython3",
   "version": "3.11.10"
  }
 },
 "nbformat": 4,
 "nbformat_minor": 2
}
